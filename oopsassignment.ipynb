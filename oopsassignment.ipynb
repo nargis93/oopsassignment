{
 "cells": [
  {
   "cell_type": "code",
   "execution_count": null,
   "id": "5358d84e-f074-4f31-af61-d53b54c435a5",
   "metadata": {},
   "outputs": [],
   "source": [
    "Ans 1 =\n",
    "Classes are user-defined data types that act as the blueprint for individual objects, attributes and methods.\n",
    "Objects are instancesof a class created with specifically defined data. Objects can correspond to real-world\n",
    "objects or an abstract entity.\n",
    "Everything in Java is associated with classes and objects, along with its attributes and methods. For example: in real life, \n",
    "a car is an object. The car has attributes, such as weight and color,and methods, such as drive and brake.\n",
    "A Class is like an object constructor, or a \"blueprint\" for creating objects.\n",
    "\n",
    "Ans 2 = The Four Pillars of Object Oriented Programming\n",
    "Abstraction.\n",
    "Encapsulation.\n",
    "Inheritance.\n",
    "Polymorphism.\n",
    "\n",
    "Ans 3 = init function is used because \"__init__\" is a reserved method in python classes. It is known as a constructor in OOP concepts.\n",
    "This method called when an object is created from the class and it allows the class to initialize the attributes of a class.\n",
    "example\n",
    "class pwskills2:\n",
    "    def __init__(sudh,phone_number,email_id, student_id):\n",
    "        sudh.phone_number1= phone_number\n",
    "        sudh.email_id1 = email_id\n",
    "        sudh.student_id1 = student_id\n",
    "        \n",
    "    def return_student_details(sudh):\n",
    "        return sudh.student_id1,sudh.phone_number1,sudh.email_id1\n",
    "\n",
    "Ans 4 =\n",
    "The self variable is used to represent the instance of the class which is often used in object-oriented programming. \n",
    "It works as a reference to the object.Python uses the self parameter to refer to instance attributes and methods of\n",
    "the class.But we can use different word as pointer insted of self.\n",
    "\n",
    "Ans 5 =\n",
    "Inheritance relationship defines the classes that inherit from other classes as derived, subclass, or sub-type classes. \n",
    "Base class remains to be the source from which a subclass inherits.\n",
    "For example, you have a Base class of “Animal,” and a “Lion” is a Derived class. The inheritance will be Lion is an Animal.\n"
   ]
  }
 ],
 "metadata": {
  "kernelspec": {
   "display_name": "Python 3 (ipykernel)",
   "language": "python",
   "name": "python3"
  },
  "language_info": {
   "codemirror_mode": {
    "name": "ipython",
    "version": 3
   },
   "file_extension": ".py",
   "mimetype": "text/x-python",
   "name": "python",
   "nbconvert_exporter": "python",
   "pygments_lexer": "ipython3",
   "version": "3.10.8"
  }
 },
 "nbformat": 4,
 "nbformat_minor": 5
}
